{
 "cells": [
  {
   "cell_type": "markdown",
   "id": "dc966b61-ca38-44be-9263-388e2b8bb88b",
   "metadata": {},
   "source": [
    "# SageMaker Clarify Bias Report Demo"
   ]
  },
  {
   "cell_type": "markdown",
   "id": "5a56aad1-983c-4516-9114-ba19e28342fe",
   "metadata": {},
   "source": [
    "## Import necessary libraries and create SageMaker session"
   ]
  },
  {
   "cell_type": "code",
   "execution_count": 49,
   "id": "2793740b-67d0-4ab2-9247-7d5dbebd3f41",
   "metadata": {
    "tags": []
   },
   "outputs": [],
   "source": [
    "import boto3\n",
    "import sagemaker\n",
    "import pandas as pd\n",
    "import numpy as np\n",
    "import botocore\n",
    "from sagemaker import clarify\n",
    "import awswrangler as wr\n",
    "\n",
    "# Need to create SageMaker session\n",
    "sess = sagemaker.Session()\n",
    "bucket = sess.default_bucket()\n",
    "role = sagemaker.get_execution_role()\n",
    "region = sess.boto_region_name"
   ]
  },
  {
   "cell_type": "markdown",
   "id": "3fde4f4f-c5e6-4f6c-b9c0-58b3c7f94e5d",
   "metadata": {},
   "source": [
    "## Create SageMakerClarifyProcessor Object for Scaling"
   ]
  },
  {
   "cell_type": "code",
   "execution_count": 50,
   "id": "ad7e9c85-9926-40b0-90bb-2ae7f3ada0da",
   "metadata": {
    "tags": []
   },
   "outputs": [
    {
     "name": "stderr",
     "output_type": "stream",
     "text": [
      "INFO:sagemaker.image_uris:Defaulting to the only supported framework/algorithm version: 1.0.\n",
      "INFO:sagemaker.image_uris:Ignoring unnecessary instance type: None.\n"
     ]
    }
   ],
   "source": [
    "clarify_processor = clarify.SageMakerClarifyProcessor(\n",
    "    role=role,\n",
    "    instance_count=1, # this is # of nodes in cluster\n",
    "    instance_type='ml.c5.2xlarge', # processing capacity of each node in cluster\n",
    "    sagemaker_session=sess\n",
    ")"
   ]
  },
  {
   "cell_type": "markdown",
   "id": "a388e875-c95e-4233-87c1-c0459013ce58",
   "metadata": {},
   "source": [
    "## Specify Data Configuration in DataConfig Object"
   ]
  },
  {
   "cell_type": "code",
   "execution_count": null,
   "id": "146f6272-48b5-4404-9a54-2a141c31671c",
   "metadata": {},
   "outputs": [],
   "source": [
    "# Where the bias report is outputted in S3\n",
    "bias_report_output_path = \"s3://blueberries-dsc/blueberries/output_clarify\"\n",
    "\n",
    "# Getting our training data from S3\n",
    "# this will make it easier to pass in the column names for the configuration\n",
    "train_data = wr.s3.read_csv(\"s3://blueberries-dsc/blueberry.csv\")\n",
    "\n",
    "# Specifying our training data input path in S3\n",
    "s3_data_input_path=\"s3://blueberries-dsc/blueberry.csv\"\n",
    "\n",
    "# Creating DataConfig Object\n",
    "data_config = clarify.DataConfig(\n",
    "    s3_data_input_path=s3_data_input_path,\n",
    "    s3_output_path=bias_report_output_path,\n",
    "    label='yield', # this is our target variable\n",
    "    headers=train_data.columns.to_list(), # column/feature names\n",
    "    dataset_type='text/csv'\n",
    ")"
   ]
  },
  {
   "cell_type": "markdown",
   "id": "514e01af-09d7-43a8-b86b-06ecd16213d4",
   "metadata": {},
   "source": [
    "## Specify Bias Configuration in BiasConfig Object\n",
    "#### Since our target variable 'yield' is continuous, we define a threshold (5000), where we consider values above it to be a positive outcome and values below it to be a negative outcome\n",
    "#### We're choosing the feature/facet 'AverageRainingDays' to be analyzed for bias, and since it's also continuous, in this case we consider average raining days above 0.1 versus below 0.1"
   ]
  },
  {
   "cell_type": "code",
   "execution_count": 32,
   "id": "c6d3d0bd-66d9-4ffa-a892-cda392654071",
   "metadata": {
    "tags": []
   },
   "outputs": [],
   "source": [
    "bias_config = clarify.BiasConfig(\n",
    "    label_values_or_threshold=[5000],\n",
    "    facet_values_or_threshold=[0.1],\n",
    "    facet_name = 'AverageRainingDays',\n",
    ")"
   ]
  },
  {
   "cell_type": "markdown",
   "id": "1ac3cea7-aa05-4e1f-9f5f-1757cd6ec15b",
   "metadata": {},
   "source": [
    "## Run Pre-training Bias\n",
    "### For this demo, we're analyzing bias in the training data, but SageMaker Clarify also allows us to analyze bias in model predictions\n",
    "### To do this, we use the SageMakerClarifyProcessor object created before, passing in our data and bias configurations, and the bias metrics we want to check"
   ]
  },
  {
   "cell_type": "code",
   "execution_count": 33,
   "id": "08e406ad-eb98-456c-95d2-ec623b26d66c",
   "metadata": {
    "tags": []
   },
   "outputs": [
    {
     "name": "stderr",
     "output_type": "stream",
     "text": [
      "INFO:sagemaker.clarify:Analysis Config: {'dataset_type': 'text/csv', 'headers': ['id', 'clonesize', 'honeybee', 'bumbles', 'andrena', 'osmia', 'MaxOfUpperTRange', 'MinOfUpperTRange', 'AverageOfUpperTRange', 'MaxOfLowerTRange', 'MinOfLowerTRange', 'AverageOfLowerTRange', 'RainingDays', 'AverageRainingDays', 'fruitset', 'fruitmass', 'seeds', 'yield'], 'label': 'yield', 'label_values_or_threshold': [5000], 'facet': [{'name_or_index': 'AverageRainingDays', 'value_or_threshold': [0.1]}], 'methods': {'report': {'name': 'report', 'title': 'Analysis Report'}, 'pre_training_bias': {'methods': ['CI', 'DPL']}}}\n",
      "INFO:sagemaker:Creating processing-job with name Clarify-Pretraining-Bias-2023-06-15-05-22-48-650\n"
     ]
    },
    {
     "name": "stdout",
     "output_type": "stream",
     "text": [
      "............................\u001b[34m2023-06-15 05:27:25,507 logging.conf not found when configuring logging, using default logging configuration.\u001b[0m\n",
      "\u001b[34m2023-06-15 05:27:25,508 Starting SageMaker Clarify Processing job\u001b[0m\n",
      "\u001b[34m2023-06-15 05:27:25,508 Analysis config path: /opt/ml/processing/input/config/analysis_config.json\u001b[0m\n",
      "\u001b[34m2023-06-15 05:27:25,508 Analysis result path: /opt/ml/processing/output\u001b[0m\n",
      "\u001b[34m2023-06-15 05:27:25,508 This host is algo-1.\u001b[0m\n",
      "\u001b[34m2023-06-15 05:27:25,508 This host is the leader.\u001b[0m\n",
      "\u001b[34m2023-06-15 05:27:25,508 Number of hosts in the cluster is 1.\u001b[0m\n",
      "\u001b[34m2023-06-15 05:27:25,510 Running Python / Pandas based analyzer.\u001b[0m\n",
      "\u001b[34m2023-06-15 05:27:25,510 Dataset type: text/csv uri: /opt/ml/processing/input/data\u001b[0m\n",
      "\u001b[34m2023-06-15 05:27:25,519 Loading dataset...\u001b[0m\n",
      "\u001b[34m/usr/local/lib/python3.9/site-packages/analyzer/data_loading/csv_data_loader.py:329: FutureWarning: The frame.append method is deprecated and will be removed from pandas in a future version. Use pandas.concat instead.\n",
      "  df = df.append(df_tmp, ignore_index=True)\u001b[0m\n",
      "\u001b[34m2023-06-15 05:27:25,548 Loaded dataset. Dataset info:\u001b[0m\n",
      "\u001b[34m<class 'pandas.core.frame.DataFrame'>\u001b[0m\n",
      "\u001b[34mRangeIndex: 15289 entries, 0 to 15288\u001b[0m\n",
      "\u001b[34mData columns (total 17 columns):\n",
      " #   Column                Non-Null Count  Dtype  \u001b[0m\n",
      "\u001b[34m---  ------                --------------  -----  \n",
      " 0   id                    15289 non-null  int64  \n",
      " 1   clonesize             15289 non-null  float64\n",
      " 2   honeybee              15289 non-null  float64\n",
      " 3   bumbles               15289 non-null  float64\n",
      " 4   andrena               15289 non-null  float64\n",
      " 5   osmia                 15289 non-null  float64\n",
      " 6   MaxOfUpperTRange      15289 non-null  float64\n",
      " 7   MinOfUpperTRange      15289 non-null  float64\n",
      " 8   AverageOfUpperTRange  15289 non-null  float64\n",
      " 9   MaxOfLowerTRange      15289 non-null  float64\n",
      " 10  MinOfLowerTRange      15289 non-null  float64\n",
      " 11  AverageOfLowerTRange  15289 non-null  float64\n",
      " 12  RainingDays           15289 non-null  float64\n",
      " 13  AverageRainingDays    15289 non-null  float64\n",
      " 14  fruitset              15289 non-null  float64\n",
      " 15  fruitmass             15289 non-null  float64\n",
      " 16  seeds                 15289 non-null  float64\u001b[0m\n",
      "\u001b[34mdtypes: float64(16), int64(1)\u001b[0m\n",
      "\u001b[34mmemory usage: 2.0 MB\u001b[0m\n",
      "\u001b[34m2023-06-15 05:27:25,549 Calculated global analysis with predictor\u001b[0m\n",
      "\u001b[34m2023-06-15 05:27:25,549 =====================================\u001b[0m\n",
      "\u001b[34m2023-06-15 05:27:25,549 Calculating pre-training bias metrics\u001b[0m\n",
      "\u001b[34m2023-06-15 05:27:25,549 =====================================\u001b[0m\n",
      "\u001b[34m2023-06-15 05:27:25,549 Column yield with data uniqueness fraction 0.05075544509124207 is classifed as a CONTINUOUS column\u001b[0m\n",
      "\u001b[34m2023-06-15 05:27:25,615 Column AverageRainingDays with data uniqueness fraction 0.0005232520112499182 is classifed as a CONTINUOUS column\u001b[0m\n",
      "\u001b[34m/usr/local/lib/python3.9/site-packages/smclarify/bias/report.py:591: FutureWarning: In a future version of pandas all arguments of DataFrame.drop except for the argument 'labels' will be keyword-only.\n",
      "  df = df.drop(facet_column.name, 1)\u001b[0m\n",
      "\u001b[34m2023-06-15 05:27:25,618 Column yield with data uniqueness fraction 0.05075544509124207 is classifed as a CONTINUOUS column\u001b[0m\n",
      "\u001b[34m2023-06-15 05:27:25,684 Threshold Interval indices: IntervalIndex([(0.1, 0.56]], dtype='interval[float64, right]')\u001b[0m\n",
      "\u001b[34m2023-06-15 05:27:25,812 ======================================\u001b[0m\n",
      "\u001b[34m2023-06-15 05:27:25,813 Calculating bias statistics for report\u001b[0m\n",
      "\u001b[34m2023-06-15 05:27:25,813 ======================================\u001b[0m\n",
      "\u001b[34m2023-06-15 05:27:25,813 Column yield with data uniqueness fraction 0.05075544509124207 is classifed as a CONTINUOUS column\u001b[0m\n",
      "\u001b[34m2023-06-15 05:27:25,878 Column AverageRainingDays with data uniqueness fraction 0.0005232520112499182 is classifed as a CONTINUOUS column\u001b[0m\n",
      "\u001b[34m/usr/local/lib/python3.9/site-packages/smclarify/bias/report.py:591: FutureWarning: In a future version of pandas all arguments of DataFrame.drop except for the argument 'labels' will be keyword-only.\n",
      "  df = df.drop(facet_column.name, 1)\u001b[0m\n",
      "\u001b[34m2023-06-15 05:27:25,880 Column yield with data uniqueness fraction 0.05075544509124207 is classifed as a CONTINUOUS column\u001b[0m\n",
      "\u001b[34m2023-06-15 05:27:25,945 Threshold Interval indices: IntervalIndex([(0.1, 0.56]], dtype='interval[float64, right]')\u001b[0m\n",
      "\u001b[34m2023-06-15 05:27:26,074 Column yield with data uniqueness fraction 0.05075544509124207 is classifed as a CONTINUOUS column\u001b[0m\n",
      "\u001b[34m2023-06-15 05:27:26,140 Model performance computations failed.\u001b[0m\n",
      "\u001b[34mTraceback (most recent call last):\n",
      "  File \"/usr/local/lib/python3.9/site-packages/analyzer/bias/bias_stats_analyzer.py\", line 118, in generate_model_performance_report\n",
      "    metrics_result: Dict[str, Any] = bias.model_performance_report(\n",
      "  File \"/usr/local/lib/python3.9/site-packages/smclarify/bias/report.py\", line 442, in model_performance_report\n",
      "    predicted_label_column.series, positive_label_values\u001b[0m\n",
      "\u001b[34mAttributeError: 'NoneType' object has no attribute 'series'\u001b[0m\n",
      "\u001b[34m2023-06-15 05:27:26,140 Converting Pandas DataFrame to SparkDataFrame for computing report metadata\u001b[0m\n",
      "\u001b[34m05:27:27.537 [main] WARN  o.a.hadoop.util.NativeCodeLoader - Unable to load native-hadoop library for your platform... using builtin-java classes where applicable\u001b[0m\n",
      "\u001b[34m#015[Stage 0:>                                                          (0 + 8) / 8]#015#015                                                                                #015#015[Stage 3:>                                                          (0 + 8) / 8]#015#015                                                                                #0152023-06-15 05:27:35,510 Report Metadata: Could not find predicted_label in Dataframe\u001b[0m\n",
      "\u001b[34m2023-06-15 05:27:36,058 Calculated global analysis without predictor\u001b[0m\n",
      "\u001b[34m2023-06-15 05:27:36,731 ['jupyter', 'nbconvert', '--to', 'html', '--output', '/opt/ml/processing/output/report.html', '/opt/ml/processing/output/report.ipynb', '--template', 'sagemaker-xai']\u001b[0m\n",
      "\u001b[34m[NbConvertApp] Converting notebook /opt/ml/processing/output/report.ipynb to html\u001b[0m\n",
      "\u001b[34m[NbConvertApp] Writing 544264 bytes to /opt/ml/processing/output/report.html\u001b[0m\n",
      "\u001b[34m2023-06-15 05:27:37,631 ['wkhtmltopdf', '-q', '--enable-local-file-access', '/opt/ml/processing/output/report.html', '/opt/ml/processing/output/report.pdf']\u001b[0m\n",
      "\u001b[34m2023-06-15 05:27:38,305 Collected analyses: \u001b[0m\n",
      "\u001b[34m{\n",
      "    \"version\": \"1.0\",\n",
      "    \"pre_training_bias_metrics\": {\n",
      "        \"label\": \"yield\",\n",
      "        \"facets\": {\n",
      "            \"AverageRainingDays\": [\n",
      "                {\n",
      "                    \"value_or_threshold\": \"(0.1, 0.56]\",\n",
      "                    \"metrics\": [\n",
      "                        {\n",
      "                            \"name\": \"CI\",\n",
      "                            \"description\": \"Class Imbalance (CI)\",\n",
      "                            \"value\": -0.532997579959448\n",
      "                        },\n",
      "                        {\n",
      "                            \"name\": \"DPL\",\n",
      "                            \"description\": \"Difference in Positive Proportions in Labels (DPL)\",\n",
      "                            \"value\": 0.22178542207906282\n",
      "                        }\n",
      "                    ]\n",
      "                }\n",
      "            ]\n",
      "        },\n",
      "        \"label_value_or_threshold\": \"(5000.0, 8969.40184]\"\n",
      "    }\u001b[0m\n",
      "\u001b[34m}\u001b[0m\n",
      "\u001b[34m2023-06-15 05:27:38,306 exit_message: Completed: SageMaker XAI Analyzer ran successfully\u001b[0m\n",
      "\n"
     ]
    }
   ],
   "source": [
    "clarify_processor.run_pre_training_bias(\n",
    "    data_config = data_config,\n",
    "    data_bias_config = bias_config,\n",
    "    methods = [\"CI\", \"DPL\"], # This specifies that we want to check for Class Imbalance \n",
    "                                                        # and Difference in Positive Proportions of Labels\n",
    ")"
   ]
  }
 ],
 "metadata": {
  "availableInstances": [
   {
    "_defaultOrder": 0,
    "_isFastLaunch": true,
    "category": "General purpose",
    "gpuNum": 0,
    "hideHardwareSpecs": false,
    "memoryGiB": 4,
    "name": "ml.t3.medium",
    "vcpuNum": 2
   },
   {
    "_defaultOrder": 1,
    "_isFastLaunch": false,
    "category": "General purpose",
    "gpuNum": 0,
    "hideHardwareSpecs": false,
    "memoryGiB": 8,
    "name": "ml.t3.large",
    "vcpuNum": 2
   },
   {
    "_defaultOrder": 2,
    "_isFastLaunch": false,
    "category": "General purpose",
    "gpuNum": 0,
    "hideHardwareSpecs": false,
    "memoryGiB": 16,
    "name": "ml.t3.xlarge",
    "vcpuNum": 4
   },
   {
    "_defaultOrder": 3,
    "_isFastLaunch": false,
    "category": "General purpose",
    "gpuNum": 0,
    "hideHardwareSpecs": false,
    "memoryGiB": 32,
    "name": "ml.t3.2xlarge",
    "vcpuNum": 8
   },
   {
    "_defaultOrder": 4,
    "_isFastLaunch": true,
    "category": "General purpose",
    "gpuNum": 0,
    "hideHardwareSpecs": false,
    "memoryGiB": 8,
    "name": "ml.m5.large",
    "vcpuNum": 2
   },
   {
    "_defaultOrder": 5,
    "_isFastLaunch": false,
    "category": "General purpose",
    "gpuNum": 0,
    "hideHardwareSpecs": false,
    "memoryGiB": 16,
    "name": "ml.m5.xlarge",
    "vcpuNum": 4
   },
   {
    "_defaultOrder": 6,
    "_isFastLaunch": false,
    "category": "General purpose",
    "gpuNum": 0,
    "hideHardwareSpecs": false,
    "memoryGiB": 32,
    "name": "ml.m5.2xlarge",
    "vcpuNum": 8
   },
   {
    "_defaultOrder": 7,
    "_isFastLaunch": false,
    "category": "General purpose",
    "gpuNum": 0,
    "hideHardwareSpecs": false,
    "memoryGiB": 64,
    "name": "ml.m5.4xlarge",
    "vcpuNum": 16
   },
   {
    "_defaultOrder": 8,
    "_isFastLaunch": false,
    "category": "General purpose",
    "gpuNum": 0,
    "hideHardwareSpecs": false,
    "memoryGiB": 128,
    "name": "ml.m5.8xlarge",
    "vcpuNum": 32
   },
   {
    "_defaultOrder": 9,
    "_isFastLaunch": false,
    "category": "General purpose",
    "gpuNum": 0,
    "hideHardwareSpecs": false,
    "memoryGiB": 192,
    "name": "ml.m5.12xlarge",
    "vcpuNum": 48
   },
   {
    "_defaultOrder": 10,
    "_isFastLaunch": false,
    "category": "General purpose",
    "gpuNum": 0,
    "hideHardwareSpecs": false,
    "memoryGiB": 256,
    "name": "ml.m5.16xlarge",
    "vcpuNum": 64
   },
   {
    "_defaultOrder": 11,
    "_isFastLaunch": false,
    "category": "General purpose",
    "gpuNum": 0,
    "hideHardwareSpecs": false,
    "memoryGiB": 384,
    "name": "ml.m5.24xlarge",
    "vcpuNum": 96
   },
   {
    "_defaultOrder": 12,
    "_isFastLaunch": false,
    "category": "General purpose",
    "gpuNum": 0,
    "hideHardwareSpecs": false,
    "memoryGiB": 8,
    "name": "ml.m5d.large",
    "vcpuNum": 2
   },
   {
    "_defaultOrder": 13,
    "_isFastLaunch": false,
    "category": "General purpose",
    "gpuNum": 0,
    "hideHardwareSpecs": false,
    "memoryGiB": 16,
    "name": "ml.m5d.xlarge",
    "vcpuNum": 4
   },
   {
    "_defaultOrder": 14,
    "_isFastLaunch": false,
    "category": "General purpose",
    "gpuNum": 0,
    "hideHardwareSpecs": false,
    "memoryGiB": 32,
    "name": "ml.m5d.2xlarge",
    "vcpuNum": 8
   },
   {
    "_defaultOrder": 15,
    "_isFastLaunch": false,
    "category": "General purpose",
    "gpuNum": 0,
    "hideHardwareSpecs": false,
    "memoryGiB": 64,
    "name": "ml.m5d.4xlarge",
    "vcpuNum": 16
   },
   {
    "_defaultOrder": 16,
    "_isFastLaunch": false,
    "category": "General purpose",
    "gpuNum": 0,
    "hideHardwareSpecs": false,
    "memoryGiB": 128,
    "name": "ml.m5d.8xlarge",
    "vcpuNum": 32
   },
   {
    "_defaultOrder": 17,
    "_isFastLaunch": false,
    "category": "General purpose",
    "gpuNum": 0,
    "hideHardwareSpecs": false,
    "memoryGiB": 192,
    "name": "ml.m5d.12xlarge",
    "vcpuNum": 48
   },
   {
    "_defaultOrder": 18,
    "_isFastLaunch": false,
    "category": "General purpose",
    "gpuNum": 0,
    "hideHardwareSpecs": false,
    "memoryGiB": 256,
    "name": "ml.m5d.16xlarge",
    "vcpuNum": 64
   },
   {
    "_defaultOrder": 19,
    "_isFastLaunch": false,
    "category": "General purpose",
    "gpuNum": 0,
    "hideHardwareSpecs": false,
    "memoryGiB": 384,
    "name": "ml.m5d.24xlarge",
    "vcpuNum": 96
   },
   {
    "_defaultOrder": 20,
    "_isFastLaunch": false,
    "category": "General purpose",
    "gpuNum": 0,
    "hideHardwareSpecs": true,
    "memoryGiB": 0,
    "name": "ml.geospatial.interactive",
    "supportedImageNames": [
     "sagemaker-geospatial-v1-0"
    ],
    "vcpuNum": 0
   },
   {
    "_defaultOrder": 21,
    "_isFastLaunch": true,
    "category": "Compute optimized",
    "gpuNum": 0,
    "hideHardwareSpecs": false,
    "memoryGiB": 4,
    "name": "ml.c5.large",
    "vcpuNum": 2
   },
   {
    "_defaultOrder": 22,
    "_isFastLaunch": false,
    "category": "Compute optimized",
    "gpuNum": 0,
    "hideHardwareSpecs": false,
    "memoryGiB": 8,
    "name": "ml.c5.xlarge",
    "vcpuNum": 4
   },
   {
    "_defaultOrder": 23,
    "_isFastLaunch": false,
    "category": "Compute optimized",
    "gpuNum": 0,
    "hideHardwareSpecs": false,
    "memoryGiB": 16,
    "name": "ml.c5.2xlarge",
    "vcpuNum": 8
   },
   {
    "_defaultOrder": 24,
    "_isFastLaunch": false,
    "category": "Compute optimized",
    "gpuNum": 0,
    "hideHardwareSpecs": false,
    "memoryGiB": 32,
    "name": "ml.c5.4xlarge",
    "vcpuNum": 16
   },
   {
    "_defaultOrder": 25,
    "_isFastLaunch": false,
    "category": "Compute optimized",
    "gpuNum": 0,
    "hideHardwareSpecs": false,
    "memoryGiB": 72,
    "name": "ml.c5.9xlarge",
    "vcpuNum": 36
   },
   {
    "_defaultOrder": 26,
    "_isFastLaunch": false,
    "category": "Compute optimized",
    "gpuNum": 0,
    "hideHardwareSpecs": false,
    "memoryGiB": 96,
    "name": "ml.c5.12xlarge",
    "vcpuNum": 48
   },
   {
    "_defaultOrder": 27,
    "_isFastLaunch": false,
    "category": "Compute optimized",
    "gpuNum": 0,
    "hideHardwareSpecs": false,
    "memoryGiB": 144,
    "name": "ml.c5.18xlarge",
    "vcpuNum": 72
   },
   {
    "_defaultOrder": 28,
    "_isFastLaunch": false,
    "category": "Compute optimized",
    "gpuNum": 0,
    "hideHardwareSpecs": false,
    "memoryGiB": 192,
    "name": "ml.c5.24xlarge",
    "vcpuNum": 96
   },
   {
    "_defaultOrder": 29,
    "_isFastLaunch": true,
    "category": "Accelerated computing",
    "gpuNum": 1,
    "hideHardwareSpecs": false,
    "memoryGiB": 16,
    "name": "ml.g4dn.xlarge",
    "vcpuNum": 4
   },
   {
    "_defaultOrder": 30,
    "_isFastLaunch": false,
    "category": "Accelerated computing",
    "gpuNum": 1,
    "hideHardwareSpecs": false,
    "memoryGiB": 32,
    "name": "ml.g4dn.2xlarge",
    "vcpuNum": 8
   },
   {
    "_defaultOrder": 31,
    "_isFastLaunch": false,
    "category": "Accelerated computing",
    "gpuNum": 1,
    "hideHardwareSpecs": false,
    "memoryGiB": 64,
    "name": "ml.g4dn.4xlarge",
    "vcpuNum": 16
   },
   {
    "_defaultOrder": 32,
    "_isFastLaunch": false,
    "category": "Accelerated computing",
    "gpuNum": 1,
    "hideHardwareSpecs": false,
    "memoryGiB": 128,
    "name": "ml.g4dn.8xlarge",
    "vcpuNum": 32
   },
   {
    "_defaultOrder": 33,
    "_isFastLaunch": false,
    "category": "Accelerated computing",
    "gpuNum": 4,
    "hideHardwareSpecs": false,
    "memoryGiB": 192,
    "name": "ml.g4dn.12xlarge",
    "vcpuNum": 48
   },
   {
    "_defaultOrder": 34,
    "_isFastLaunch": false,
    "category": "Accelerated computing",
    "gpuNum": 1,
    "hideHardwareSpecs": false,
    "memoryGiB": 256,
    "name": "ml.g4dn.16xlarge",
    "vcpuNum": 64
   },
   {
    "_defaultOrder": 35,
    "_isFastLaunch": false,
    "category": "Accelerated computing",
    "gpuNum": 1,
    "hideHardwareSpecs": false,
    "memoryGiB": 61,
    "name": "ml.p3.2xlarge",
    "vcpuNum": 8
   },
   {
    "_defaultOrder": 36,
    "_isFastLaunch": false,
    "category": "Accelerated computing",
    "gpuNum": 4,
    "hideHardwareSpecs": false,
    "memoryGiB": 244,
    "name": "ml.p3.8xlarge",
    "vcpuNum": 32
   },
   {
    "_defaultOrder": 37,
    "_isFastLaunch": false,
    "category": "Accelerated computing",
    "gpuNum": 8,
    "hideHardwareSpecs": false,
    "memoryGiB": 488,
    "name": "ml.p3.16xlarge",
    "vcpuNum": 64
   },
   {
    "_defaultOrder": 38,
    "_isFastLaunch": false,
    "category": "Accelerated computing",
    "gpuNum": 8,
    "hideHardwareSpecs": false,
    "memoryGiB": 768,
    "name": "ml.p3dn.24xlarge",
    "vcpuNum": 96
   },
   {
    "_defaultOrder": 39,
    "_isFastLaunch": false,
    "category": "Memory Optimized",
    "gpuNum": 0,
    "hideHardwareSpecs": false,
    "memoryGiB": 16,
    "name": "ml.r5.large",
    "vcpuNum": 2
   },
   {
    "_defaultOrder": 40,
    "_isFastLaunch": false,
    "category": "Memory Optimized",
    "gpuNum": 0,
    "hideHardwareSpecs": false,
    "memoryGiB": 32,
    "name": "ml.r5.xlarge",
    "vcpuNum": 4
   },
   {
    "_defaultOrder": 41,
    "_isFastLaunch": false,
    "category": "Memory Optimized",
    "gpuNum": 0,
    "hideHardwareSpecs": false,
    "memoryGiB": 64,
    "name": "ml.r5.2xlarge",
    "vcpuNum": 8
   },
   {
    "_defaultOrder": 42,
    "_isFastLaunch": false,
    "category": "Memory Optimized",
    "gpuNum": 0,
    "hideHardwareSpecs": false,
    "memoryGiB": 128,
    "name": "ml.r5.4xlarge",
    "vcpuNum": 16
   },
   {
    "_defaultOrder": 43,
    "_isFastLaunch": false,
    "category": "Memory Optimized",
    "gpuNum": 0,
    "hideHardwareSpecs": false,
    "memoryGiB": 256,
    "name": "ml.r5.8xlarge",
    "vcpuNum": 32
   },
   {
    "_defaultOrder": 44,
    "_isFastLaunch": false,
    "category": "Memory Optimized",
    "gpuNum": 0,
    "hideHardwareSpecs": false,
    "memoryGiB": 384,
    "name": "ml.r5.12xlarge",
    "vcpuNum": 48
   },
   {
    "_defaultOrder": 45,
    "_isFastLaunch": false,
    "category": "Memory Optimized",
    "gpuNum": 0,
    "hideHardwareSpecs": false,
    "memoryGiB": 512,
    "name": "ml.r5.16xlarge",
    "vcpuNum": 64
   },
   {
    "_defaultOrder": 46,
    "_isFastLaunch": false,
    "category": "Memory Optimized",
    "gpuNum": 0,
    "hideHardwareSpecs": false,
    "memoryGiB": 768,
    "name": "ml.r5.24xlarge",
    "vcpuNum": 96
   },
   {
    "_defaultOrder": 47,
    "_isFastLaunch": false,
    "category": "Accelerated computing",
    "gpuNum": 1,
    "hideHardwareSpecs": false,
    "memoryGiB": 16,
    "name": "ml.g5.xlarge",
    "vcpuNum": 4
   },
   {
    "_defaultOrder": 48,
    "_isFastLaunch": false,
    "category": "Accelerated computing",
    "gpuNum": 1,
    "hideHardwareSpecs": false,
    "memoryGiB": 32,
    "name": "ml.g5.2xlarge",
    "vcpuNum": 8
   },
   {
    "_defaultOrder": 49,
    "_isFastLaunch": false,
    "category": "Accelerated computing",
    "gpuNum": 1,
    "hideHardwareSpecs": false,
    "memoryGiB": 64,
    "name": "ml.g5.4xlarge",
    "vcpuNum": 16
   },
   {
    "_defaultOrder": 50,
    "_isFastLaunch": false,
    "category": "Accelerated computing",
    "gpuNum": 1,
    "hideHardwareSpecs": false,
    "memoryGiB": 128,
    "name": "ml.g5.8xlarge",
    "vcpuNum": 32
   },
   {
    "_defaultOrder": 51,
    "_isFastLaunch": false,
    "category": "Accelerated computing",
    "gpuNum": 1,
    "hideHardwareSpecs": false,
    "memoryGiB": 256,
    "name": "ml.g5.16xlarge",
    "vcpuNum": 64
   },
   {
    "_defaultOrder": 52,
    "_isFastLaunch": false,
    "category": "Accelerated computing",
    "gpuNum": 4,
    "hideHardwareSpecs": false,
    "memoryGiB": 192,
    "name": "ml.g5.12xlarge",
    "vcpuNum": 48
   },
   {
    "_defaultOrder": 53,
    "_isFastLaunch": false,
    "category": "Accelerated computing",
    "gpuNum": 4,
    "hideHardwareSpecs": false,
    "memoryGiB": 384,
    "name": "ml.g5.24xlarge",
    "vcpuNum": 96
   },
   {
    "_defaultOrder": 54,
    "_isFastLaunch": false,
    "category": "Accelerated computing",
    "gpuNum": 8,
    "hideHardwareSpecs": false,
    "memoryGiB": 768,
    "name": "ml.g5.48xlarge",
    "vcpuNum": 192
   },
   {
    "_defaultOrder": 55,
    "_isFastLaunch": false,
    "category": "Accelerated computing",
    "gpuNum": 8,
    "hideHardwareSpecs": false,
    "memoryGiB": 1152,
    "name": "ml.p4d.24xlarge",
    "vcpuNum": 96
   },
   {
    "_defaultOrder": 56,
    "_isFastLaunch": false,
    "category": "Accelerated computing",
    "gpuNum": 8,
    "hideHardwareSpecs": false,
    "memoryGiB": 1152,
    "name": "ml.p4de.24xlarge",
    "vcpuNum": 96
   }
  ],
  "instance_type": "ml.t3.medium",
  "kernelspec": {
   "display_name": "Python 3 (Data Science)",
   "language": "python",
   "name": "python3__SAGEMAKER_INTERNAL__arn:aws:sagemaker:us-east-1:081325390199:image/datascience-1.0"
  },
  "language_info": {
   "codemirror_mode": {
    "name": "ipython",
    "version": 3
   },
   "file_extension": ".py",
   "mimetype": "text/x-python",
   "name": "python",
   "nbconvert_exporter": "python",
   "pygments_lexer": "ipython3",
   "version": "3.7.10"
  }
 },
 "nbformat": 4,
 "nbformat_minor": 5
}
